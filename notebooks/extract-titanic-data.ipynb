{
 "cells": [
  {
   "cell_type": "code",
   "execution_count": 2,
   "metadata": {},
   "outputs": [
    {
     "name": "stdout",
     "output_type": "stream",
     "text": [
      "\u001b[33mDEPRECATION: Python 2.7 will reach the end of its life on January 1st, 2020. Please upgrade your Python as Python 2.7 won't be maintained after that date. A future version of pip will drop support for Python 2.7. More details about Python 2 support in pip, can be found at https://pip.pypa.io/en/latest/development/release-process/#python-2-support\u001b[0m\n",
      "Collecting python-dotenv\n",
      "  Downloading https://files.pythonhosted.org/packages/c8/29/774774f808d25bb2a2f43c7bc07b00084a7dd06e2cb48c181acc1c3e80c7/python_dotenv-0.11.0-py2.py3-none-any.whl\n",
      "Requirement already satisfied: typing; python_version < \"3.5\" in /opt/anaconda2/lib/python2.7/site-packages (from python-dotenv) (3.7.4.1)\n",
      "Installing collected packages: python-dotenv\n",
      "Successfully installed python-dotenv-0.11.0\n"
     ]
    }
   ],
   "source": [
    "!pip install python-dotenv"
   ]
  },
  {
   "cell_type": "code",
   "execution_count": 3,
   "metadata": {},
   "outputs": [],
   "source": [
    "from dotenv import load_dotenv, find_dotenv"
   ]
  },
  {
   "cell_type": "code",
   "execution_count": 4,
   "metadata": {},
   "outputs": [
    {
     "data": {
      "text/plain": [
       "True"
      ]
     },
     "execution_count": 4,
     "metadata": {},
     "output_type": "execute_result"
    }
   ],
   "source": [
    "dotenv_path = find_dotenv()\n",
    "load_dotenv(dotenv_path)"
   ]
  },
  {
   "cell_type": "code",
   "execution_count": 5,
   "metadata": {},
   "outputs": [
    {
     "name": "stdout",
     "output_type": "stream",
     "text": [
      "None\n"
     ]
    }
   ],
   "source": [
    "import os\n",
    "KAGGLE_USERNAME = os.environ.get(\"KAGGLE_USERNAME\")\n",
    "print(KAGGLE_USERNAME)"
   ]
  },
  {
   "cell_type": "code",
   "execution_count": 6,
   "metadata": {},
   "outputs": [],
   "source": [
    "# imports\n",
    "import requests\n",
    "from requests import session\n",
    "import os\n",
    "from dotenv import load_dotenv, find_dotenv\n"
   ]
  },
  {
   "cell_type": "code",
   "execution_count": 10,
   "metadata": {},
   "outputs": [
    {
     "name": "stdout",
     "output_type": "stream",
     "text": [
      "<Response [200]>\n"
     ]
    }
   ],
   "source": [
    "payload={\n",
    "    'action':'login',\n",
    "    'username': os.environ.get('KAGGLE_USERNAME'),\n",
    "    'password':os.environ.get('KAGGLE_PASSWORD'),\n",
    "}\n",
    "\n",
    "# url for training\n",
    "url = 'https://www.kaggle.com/c/titanic/download/train.csv'\n",
    "loginurl = 'https://www.kaggle.com/account/login'\n",
    "\n",
    "with session() as c:\n",
    "    # post request\n",
    "    c.post(loginurl, data=payload)\n",
    "    # get request\n",
    "    response = c.get(url)\n",
    "    # print response\n",
    "    print(response)\n",
    "    \n",
    "    "
   ]
  },
  {
   "cell_type": "code",
   "execution_count": null,
   "metadata": {},
   "outputs": [],
   "source": [
    "from requests import session\n",
    "payload={\n",
    "    'action':'login',\n",
    "    'username': os.environ.get('KAGGLE_USERNAME'),\n",
    "    'password':os.environ.get('KAGGLE_PASSWORD'),\n",
    "}\n",
    "\n",
    "def extract_data(url, filePath):\n",
    "    c.post(loginurl, data=payload)\n",
    "    # open file to write\n",
    "    with open(filePath, 'w') as handle:\n",
    "        response = c.get(url, stream=True)\n",
    "        for block in response.iter_content(1024):\n",
    "            handle.write(block)"
   ]
  },
  {
   "cell_type": "code",
   "execution_count": null,
   "metadata": {},
   "outputs": [],
   "source": [
    "test_data=''\n",
    "train_data=''\n",
    "\n",
    "#file paths\n",
    "raw_data_path = os.path.join(os.path.pardir, 'data', 'raw')\n",
    "train_data_path = os.path.join(raw_data_path, 'train.csv')\n",
    "test_data_path = os.path.join(raw_data_path, 'test.csv')"
   ]
  }
 ],
 "metadata": {
  "kernelspec": {
   "display_name": "Python 2",
   "language": "python",
   "name": "python2"
  },
  "language_info": {
   "codemirror_mode": {
    "name": "ipython",
    "version": 2
   },
   "file_extension": ".py",
   "mimetype": "text/x-python",
   "name": "python",
   "nbconvert_exporter": "python",
   "pygments_lexer": "ipython2",
   "version": "2.7.16"
  }
 },
 "nbformat": 4,
 "nbformat_minor": 2
}
